{
  "nbformat": 4,
  "nbformat_minor": 0,
  "metadata": {
    "colab": {
      "name": "100% 정확도의 ML을 사용한 뇌종양 예측.ipynb",
      "provenance": [],
      "authorship_tag": "ABX9TyNKrROo3VCrBrxg04E5oMYv",
      "include_colab_link": true
    },
    "kernelspec": {
      "name": "python3",
      "display_name": "Python 3"
    },
    "language_info": {
      "name": "python"
    }
  },
  "cells": [
    {
      "cell_type": "markdown",
      "metadata": {
        "id": "view-in-github",
        "colab_type": "text"
      },
      "source": [
        "<a href=\"https://colab.research.google.com/github/eunhobang/Presonal-Project/blob/main/100_%EC%A0%95%ED%99%95%EB%8F%84%EC%9D%98_ML%EC%9D%84_%EC%82%AC%EC%9A%A9%ED%95%9C_%EB%87%8C%EC%A2%85%EC%96%91_%EC%98%88%EC%B8%A1.ipynb\" target=\"_parent\"><img src=\"https://colab.research.google.com/assets/colab-badge.svg\" alt=\"Open In Colab\"/></a>"
      ]
    },
    {
      "cell_type": "markdown",
      "source": [
        "https://www.kaggle.com/code/summerakousar/brain-tumor-prediction-using-ml-with-100-accuracy/notebook\n"
      ],
      "metadata": {
        "id": "YNQRVV1AFSlh"
      }
    },
    {
      "cell_type": "markdown",
      "source": [
        "뇌종양은 뇌의 비정상적인 세포의 성장이다. 뇌의 해부학은 매우 복잡하며, 다른 부분들이 다른 신경계를 담당한다. 뇌종양은 보호막, 뇌 밑바닥, 뇌간, 부비강, 비강, 기타 많은 부분을 포함하여 뇌 또는 두개골의 모든 부분에서 발생할 수 있다.\n",
        "\n",
        "뇌종양은 암(악성) 또는 비암(양성)일 수 있다.양성종양이나 악성종양이 커지면 두개골 내부의 압력이 높아진다. 이것은 뇌 손상을 일으킬 수 있고 생명을 위협할 수 있다.\n",
        "\n",
        "그러나 뇌종양의 조기 발견 및 분류는 의료 영상 분야에서 중요한 연구 영역이며, 이에 따라 환자 생명을 구하기 위해 가장 편리한 치료 방법을 선택하는 데 도움이 된다."
      ],
      "metadata": {
        "id": "sDLcQ4IqFHGw"
      }
    },
    {
      "cell_type": "markdown",
      "source": [
        "라이브러리 import"
      ],
      "metadata": {
        "id": "1BcudEdLFjzL"
      }
    },
    {
      "cell_type": "code",
      "execution_count": 1,
      "metadata": {
        "id": "kB2stufsE9lK"
      },
      "outputs": [],
      "source": [
        "import pandas as pd\n",
        "import numpy as np\n",
        "import matplotlib.pyplot as plt\n",
        "import seaborn as sns"
      ]
    },
    {
      "cell_type": "markdown",
      "source": [
        "데이터셋 가져오기"
      ],
      "metadata": {
        "id": "vVdUffMaFnsj"
      }
    },
    {
      "cell_type": "code",
      "source": [
        "df = pd.read_csv('./data.csv')"
      ],
      "metadata": {
        "id": "YfqW_84xFjIj"
      },
      "execution_count": 4,
      "outputs": []
    },
    {
      "cell_type": "code",
      "source": [
        "df.head()"
      ],
      "metadata": {
        "colab": {
          "base_uri": "https://localhost:8080/",
          "height": 317
        },
        "id": "ugdwzPN2F7OV",
        "outputId": "3e459e8b-bdd1-4722-ddb8-03167049daf5"
      },
      "execution_count": 5,
      "outputs": [
        {
          "output_type": "execute_result",
          "data": {
            "text/plain": [
              "   Unnamed: 0  X53416  M83670  X90908  M97496  X90908.1  U37019  R48602  \\\n",
              "0           0      70     -81      25      10        22     113      36   \n",
              "1           1     108     -30      -7      60         0      24       8   \n",
              "2           2      75      -1       5      48         6      34      27   \n",
              "3           3     871       4      14      78        -6      85      65   \n",
              "4           4     -92     -34      14      19        11      -6      27   \n",
              "\n",
              "   T96548  X64559  ...  H87456  R64130  H11125.1  U22055  L22524  M13699.1  \\\n",
              "0     163       9  ...      75       5        68     138      53        -4   \n",
              "1     113      -3  ...     186       6        60      93     140        -3   \n",
              "2      35      -1  ...     186     225        94      62      39       -14   \n",
              "3     227      19  ...      77       6        78      30      87        -4   \n",
              "4      -8       9  ...      87     303       204      81     105         9   \n",
              "\n",
              "   X54489  T55008  M10065.2      y  \n",
              "0     123       2        19  tumor  \n",
              "1     271      -1       -51  tumor  \n",
              "2     127       7       192  tumor  \n",
              "3      59       3       367  tumor  \n",
              "4     265      -2       126  tumor  \n",
              "\n",
              "[5 rows x 7466 columns]"
            ],
            "text/html": [
              "\n",
              "  <div id=\"df-d706193d-6a20-409f-9e81-9415ef8350a6\">\n",
              "    <div class=\"colab-df-container\">\n",
              "      <div>\n",
              "<style scoped>\n",
              "    .dataframe tbody tr th:only-of-type {\n",
              "        vertical-align: middle;\n",
              "    }\n",
              "\n",
              "    .dataframe tbody tr th {\n",
              "        vertical-align: top;\n",
              "    }\n",
              "\n",
              "    .dataframe thead th {\n",
              "        text-align: right;\n",
              "    }\n",
              "</style>\n",
              "<table border=\"1\" class=\"dataframe\">\n",
              "  <thead>\n",
              "    <tr style=\"text-align: right;\">\n",
              "      <th></th>\n",
              "      <th>Unnamed: 0</th>\n",
              "      <th>X53416</th>\n",
              "      <th>M83670</th>\n",
              "      <th>X90908</th>\n",
              "      <th>M97496</th>\n",
              "      <th>X90908.1</th>\n",
              "      <th>U37019</th>\n",
              "      <th>R48602</th>\n",
              "      <th>T96548</th>\n",
              "      <th>X64559</th>\n",
              "      <th>...</th>\n",
              "      <th>H87456</th>\n",
              "      <th>R64130</th>\n",
              "      <th>H11125.1</th>\n",
              "      <th>U22055</th>\n",
              "      <th>L22524</th>\n",
              "      <th>M13699.1</th>\n",
              "      <th>X54489</th>\n",
              "      <th>T55008</th>\n",
              "      <th>M10065.2</th>\n",
              "      <th>y</th>\n",
              "    </tr>\n",
              "  </thead>\n",
              "  <tbody>\n",
              "    <tr>\n",
              "      <th>0</th>\n",
              "      <td>0</td>\n",
              "      <td>70</td>\n",
              "      <td>-81</td>\n",
              "      <td>25</td>\n",
              "      <td>10</td>\n",
              "      <td>22</td>\n",
              "      <td>113</td>\n",
              "      <td>36</td>\n",
              "      <td>163</td>\n",
              "      <td>9</td>\n",
              "      <td>...</td>\n",
              "      <td>75</td>\n",
              "      <td>5</td>\n",
              "      <td>68</td>\n",
              "      <td>138</td>\n",
              "      <td>53</td>\n",
              "      <td>-4</td>\n",
              "      <td>123</td>\n",
              "      <td>2</td>\n",
              "      <td>19</td>\n",
              "      <td>tumor</td>\n",
              "    </tr>\n",
              "    <tr>\n",
              "      <th>1</th>\n",
              "      <td>1</td>\n",
              "      <td>108</td>\n",
              "      <td>-30</td>\n",
              "      <td>-7</td>\n",
              "      <td>60</td>\n",
              "      <td>0</td>\n",
              "      <td>24</td>\n",
              "      <td>8</td>\n",
              "      <td>113</td>\n",
              "      <td>-3</td>\n",
              "      <td>...</td>\n",
              "      <td>186</td>\n",
              "      <td>6</td>\n",
              "      <td>60</td>\n",
              "      <td>93</td>\n",
              "      <td>140</td>\n",
              "      <td>-3</td>\n",
              "      <td>271</td>\n",
              "      <td>-1</td>\n",
              "      <td>-51</td>\n",
              "      <td>tumor</td>\n",
              "    </tr>\n",
              "    <tr>\n",
              "      <th>2</th>\n",
              "      <td>2</td>\n",
              "      <td>75</td>\n",
              "      <td>-1</td>\n",
              "      <td>5</td>\n",
              "      <td>48</td>\n",
              "      <td>6</td>\n",
              "      <td>34</td>\n",
              "      <td>27</td>\n",
              "      <td>35</td>\n",
              "      <td>-1</td>\n",
              "      <td>...</td>\n",
              "      <td>186</td>\n",
              "      <td>225</td>\n",
              "      <td>94</td>\n",
              "      <td>62</td>\n",
              "      <td>39</td>\n",
              "      <td>-14</td>\n",
              "      <td>127</td>\n",
              "      <td>7</td>\n",
              "      <td>192</td>\n",
              "      <td>tumor</td>\n",
              "    </tr>\n",
              "    <tr>\n",
              "      <th>3</th>\n",
              "      <td>3</td>\n",
              "      <td>871</td>\n",
              "      <td>4</td>\n",
              "      <td>14</td>\n",
              "      <td>78</td>\n",
              "      <td>-6</td>\n",
              "      <td>85</td>\n",
              "      <td>65</td>\n",
              "      <td>227</td>\n",
              "      <td>19</td>\n",
              "      <td>...</td>\n",
              "      <td>77</td>\n",
              "      <td>6</td>\n",
              "      <td>78</td>\n",
              "      <td>30</td>\n",
              "      <td>87</td>\n",
              "      <td>-4</td>\n",
              "      <td>59</td>\n",
              "      <td>3</td>\n",
              "      <td>367</td>\n",
              "      <td>tumor</td>\n",
              "    </tr>\n",
              "    <tr>\n",
              "      <th>4</th>\n",
              "      <td>4</td>\n",
              "      <td>-92</td>\n",
              "      <td>-34</td>\n",
              "      <td>14</td>\n",
              "      <td>19</td>\n",
              "      <td>11</td>\n",
              "      <td>-6</td>\n",
              "      <td>27</td>\n",
              "      <td>-8</td>\n",
              "      <td>9</td>\n",
              "      <td>...</td>\n",
              "      <td>87</td>\n",
              "      <td>303</td>\n",
              "      <td>204</td>\n",
              "      <td>81</td>\n",
              "      <td>105</td>\n",
              "      <td>9</td>\n",
              "      <td>265</td>\n",
              "      <td>-2</td>\n",
              "      <td>126</td>\n",
              "      <td>tumor</td>\n",
              "    </tr>\n",
              "  </tbody>\n",
              "</table>\n",
              "<p>5 rows × 7466 columns</p>\n",
              "</div>\n",
              "      <button class=\"colab-df-convert\" onclick=\"convertToInteractive('df-d706193d-6a20-409f-9e81-9415ef8350a6')\"\n",
              "              title=\"Convert this dataframe to an interactive table.\"\n",
              "              style=\"display:none;\">\n",
              "        \n",
              "  <svg xmlns=\"http://www.w3.org/2000/svg\" height=\"24px\"viewBox=\"0 0 24 24\"\n",
              "       width=\"24px\">\n",
              "    <path d=\"M0 0h24v24H0V0z\" fill=\"none\"/>\n",
              "    <path d=\"M18.56 5.44l.94 2.06.94-2.06 2.06-.94-2.06-.94-.94-2.06-.94 2.06-2.06.94zm-11 1L8.5 8.5l.94-2.06 2.06-.94-2.06-.94L8.5 2.5l-.94 2.06-2.06.94zm10 10l.94 2.06.94-2.06 2.06-.94-2.06-.94-.94-2.06-.94 2.06-2.06.94z\"/><path d=\"M17.41 7.96l-1.37-1.37c-.4-.4-.92-.59-1.43-.59-.52 0-1.04.2-1.43.59L10.3 9.45l-7.72 7.72c-.78.78-.78 2.05 0 2.83L4 21.41c.39.39.9.59 1.41.59.51 0 1.02-.2 1.41-.59l7.78-7.78 2.81-2.81c.8-.78.8-2.07 0-2.86zM5.41 20L4 18.59l7.72-7.72 1.47 1.35L5.41 20z\"/>\n",
              "  </svg>\n",
              "      </button>\n",
              "      \n",
              "  <style>\n",
              "    .colab-df-container {\n",
              "      display:flex;\n",
              "      flex-wrap:wrap;\n",
              "      gap: 12px;\n",
              "    }\n",
              "\n",
              "    .colab-df-convert {\n",
              "      background-color: #E8F0FE;\n",
              "      border: none;\n",
              "      border-radius: 50%;\n",
              "      cursor: pointer;\n",
              "      display: none;\n",
              "      fill: #1967D2;\n",
              "      height: 32px;\n",
              "      padding: 0 0 0 0;\n",
              "      width: 32px;\n",
              "    }\n",
              "\n",
              "    .colab-df-convert:hover {\n",
              "      background-color: #E2EBFA;\n",
              "      box-shadow: 0px 1px 2px rgba(60, 64, 67, 0.3), 0px 1px 3px 1px rgba(60, 64, 67, 0.15);\n",
              "      fill: #174EA6;\n",
              "    }\n",
              "\n",
              "    [theme=dark] .colab-df-convert {\n",
              "      background-color: #3B4455;\n",
              "      fill: #D2E3FC;\n",
              "    }\n",
              "\n",
              "    [theme=dark] .colab-df-convert:hover {\n",
              "      background-color: #434B5C;\n",
              "      box-shadow: 0px 1px 3px 1px rgba(0, 0, 0, 0.15);\n",
              "      filter: drop-shadow(0px 1px 2px rgba(0, 0, 0, 0.3));\n",
              "      fill: #FFFFFF;\n",
              "    }\n",
              "  </style>\n",
              "\n",
              "      <script>\n",
              "        const buttonEl =\n",
              "          document.querySelector('#df-d706193d-6a20-409f-9e81-9415ef8350a6 button.colab-df-convert');\n",
              "        buttonEl.style.display =\n",
              "          google.colab.kernel.accessAllowed ? 'block' : 'none';\n",
              "\n",
              "        async function convertToInteractive(key) {\n",
              "          const element = document.querySelector('#df-d706193d-6a20-409f-9e81-9415ef8350a6');\n",
              "          const dataTable =\n",
              "            await google.colab.kernel.invokeFunction('convertToInteractive',\n",
              "                                                     [key], {});\n",
              "          if (!dataTable) return;\n",
              "\n",
              "          const docLinkHtml = 'Like what you see? Visit the ' +\n",
              "            '<a target=\"_blank\" href=https://colab.research.google.com/notebooks/data_table.ipynb>data table notebook</a>'\n",
              "            + ' to learn more about interactive tables.';\n",
              "          element.innerHTML = '';\n",
              "          dataTable['output_type'] = 'display_data';\n",
              "          await google.colab.output.renderOutput(dataTable, element);\n",
              "          const docLink = document.createElement('div');\n",
              "          docLink.innerHTML = docLinkHtml;\n",
              "          element.appendChild(docLink);\n",
              "        }\n",
              "      </script>\n",
              "    </div>\n",
              "  </div>\n",
              "  "
            ]
          },
          "metadata": {},
          "execution_count": 5
        }
      ]
    },
    {
      "cell_type": "code",
      "source": [
        "df.tail()"
      ],
      "metadata": {
        "colab": {
          "base_uri": "https://localhost:8080/",
          "height": 317
        },
        "id": "SGfc4fZlF8nm",
        "outputId": "3cfcb2d2-daf7-4135-8d77-f56fe78a12ba"
      },
      "execution_count": 6,
      "outputs": [
        {
          "output_type": "execute_result",
          "data": {
            "text/plain": [
              "    Unnamed: 0  X53416  M83670  X90908  M97496  X90908.1  U37019  R48602  \\\n",
              "31          31     488     564     -29    1303        -9    1236     265   \n",
              "32          32     164     330     -13     721        12     504     154   \n",
              "33          33    1282     116      -4     542         0    1070     344   \n",
              "34          34      68     718     -50    1816       -28     251      38   \n",
              "35          35     928     332       4     412         0     681     267   \n",
              "\n",
              "    T96548  X64559  ...  H87456  R64130  H11125.1  U22055  L22524  M13699.1  \\\n",
              "31    2203      41  ...      16       0       109      21       6       -15   \n",
              "32    1381      78  ...     -18       1     -1484      -4      -1        -1   \n",
              "33    1903      42  ...       5       3       128      25       2         0   \n",
              "34     598      73  ...      47      -2       190       3       0         8   \n",
              "35    1132     357  ...       9       1        67      19      10         1   \n",
              "\n",
              "    X54489  T55008  M10065.2       y  \n",
              "31      11       7      -145  Normal  \n",
              "32       3      -5       -63  Normal  \n",
              "33       7       3       -69  Normal  \n",
              "34      21      22      -214  Normal  \n",
              "35      32      -5        72  Normal  \n",
              "\n",
              "[5 rows x 7466 columns]"
            ],
            "text/html": [
              "\n",
              "  <div id=\"df-80659239-a01f-44e3-91e5-9b40cc30681e\">\n",
              "    <div class=\"colab-df-container\">\n",
              "      <div>\n",
              "<style scoped>\n",
              "    .dataframe tbody tr th:only-of-type {\n",
              "        vertical-align: middle;\n",
              "    }\n",
              "\n",
              "    .dataframe tbody tr th {\n",
              "        vertical-align: top;\n",
              "    }\n",
              "\n",
              "    .dataframe thead th {\n",
              "        text-align: right;\n",
              "    }\n",
              "</style>\n",
              "<table border=\"1\" class=\"dataframe\">\n",
              "  <thead>\n",
              "    <tr style=\"text-align: right;\">\n",
              "      <th></th>\n",
              "      <th>Unnamed: 0</th>\n",
              "      <th>X53416</th>\n",
              "      <th>M83670</th>\n",
              "      <th>X90908</th>\n",
              "      <th>M97496</th>\n",
              "      <th>X90908.1</th>\n",
              "      <th>U37019</th>\n",
              "      <th>R48602</th>\n",
              "      <th>T96548</th>\n",
              "      <th>X64559</th>\n",
              "      <th>...</th>\n",
              "      <th>H87456</th>\n",
              "      <th>R64130</th>\n",
              "      <th>H11125.1</th>\n",
              "      <th>U22055</th>\n",
              "      <th>L22524</th>\n",
              "      <th>M13699.1</th>\n",
              "      <th>X54489</th>\n",
              "      <th>T55008</th>\n",
              "      <th>M10065.2</th>\n",
              "      <th>y</th>\n",
              "    </tr>\n",
              "  </thead>\n",
              "  <tbody>\n",
              "    <tr>\n",
              "      <th>31</th>\n",
              "      <td>31</td>\n",
              "      <td>488</td>\n",
              "      <td>564</td>\n",
              "      <td>-29</td>\n",
              "      <td>1303</td>\n",
              "      <td>-9</td>\n",
              "      <td>1236</td>\n",
              "      <td>265</td>\n",
              "      <td>2203</td>\n",
              "      <td>41</td>\n",
              "      <td>...</td>\n",
              "      <td>16</td>\n",
              "      <td>0</td>\n",
              "      <td>109</td>\n",
              "      <td>21</td>\n",
              "      <td>6</td>\n",
              "      <td>-15</td>\n",
              "      <td>11</td>\n",
              "      <td>7</td>\n",
              "      <td>-145</td>\n",
              "      <td>Normal</td>\n",
              "    </tr>\n",
              "    <tr>\n",
              "      <th>32</th>\n",
              "      <td>32</td>\n",
              "      <td>164</td>\n",
              "      <td>330</td>\n",
              "      <td>-13</td>\n",
              "      <td>721</td>\n",
              "      <td>12</td>\n",
              "      <td>504</td>\n",
              "      <td>154</td>\n",
              "      <td>1381</td>\n",
              "      <td>78</td>\n",
              "      <td>...</td>\n",
              "      <td>-18</td>\n",
              "      <td>1</td>\n",
              "      <td>-1484</td>\n",
              "      <td>-4</td>\n",
              "      <td>-1</td>\n",
              "      <td>-1</td>\n",
              "      <td>3</td>\n",
              "      <td>-5</td>\n",
              "      <td>-63</td>\n",
              "      <td>Normal</td>\n",
              "    </tr>\n",
              "    <tr>\n",
              "      <th>33</th>\n",
              "      <td>33</td>\n",
              "      <td>1282</td>\n",
              "      <td>116</td>\n",
              "      <td>-4</td>\n",
              "      <td>542</td>\n",
              "      <td>0</td>\n",
              "      <td>1070</td>\n",
              "      <td>344</td>\n",
              "      <td>1903</td>\n",
              "      <td>42</td>\n",
              "      <td>...</td>\n",
              "      <td>5</td>\n",
              "      <td>3</td>\n",
              "      <td>128</td>\n",
              "      <td>25</td>\n",
              "      <td>2</td>\n",
              "      <td>0</td>\n",
              "      <td>7</td>\n",
              "      <td>3</td>\n",
              "      <td>-69</td>\n",
              "      <td>Normal</td>\n",
              "    </tr>\n",
              "    <tr>\n",
              "      <th>34</th>\n",
              "      <td>34</td>\n",
              "      <td>68</td>\n",
              "      <td>718</td>\n",
              "      <td>-50</td>\n",
              "      <td>1816</td>\n",
              "      <td>-28</td>\n",
              "      <td>251</td>\n",
              "      <td>38</td>\n",
              "      <td>598</td>\n",
              "      <td>73</td>\n",
              "      <td>...</td>\n",
              "      <td>47</td>\n",
              "      <td>-2</td>\n",
              "      <td>190</td>\n",
              "      <td>3</td>\n",
              "      <td>0</td>\n",
              "      <td>8</td>\n",
              "      <td>21</td>\n",
              "      <td>22</td>\n",
              "      <td>-214</td>\n",
              "      <td>Normal</td>\n",
              "    </tr>\n",
              "    <tr>\n",
              "      <th>35</th>\n",
              "      <td>35</td>\n",
              "      <td>928</td>\n",
              "      <td>332</td>\n",
              "      <td>4</td>\n",
              "      <td>412</td>\n",
              "      <td>0</td>\n",
              "      <td>681</td>\n",
              "      <td>267</td>\n",
              "      <td>1132</td>\n",
              "      <td>357</td>\n",
              "      <td>...</td>\n",
              "      <td>9</td>\n",
              "      <td>1</td>\n",
              "      <td>67</td>\n",
              "      <td>19</td>\n",
              "      <td>10</td>\n",
              "      <td>1</td>\n",
              "      <td>32</td>\n",
              "      <td>-5</td>\n",
              "      <td>72</td>\n",
              "      <td>Normal</td>\n",
              "    </tr>\n",
              "  </tbody>\n",
              "</table>\n",
              "<p>5 rows × 7466 columns</p>\n",
              "</div>\n",
              "      <button class=\"colab-df-convert\" onclick=\"convertToInteractive('df-80659239-a01f-44e3-91e5-9b40cc30681e')\"\n",
              "              title=\"Convert this dataframe to an interactive table.\"\n",
              "              style=\"display:none;\">\n",
              "        \n",
              "  <svg xmlns=\"http://www.w3.org/2000/svg\" height=\"24px\"viewBox=\"0 0 24 24\"\n",
              "       width=\"24px\">\n",
              "    <path d=\"M0 0h24v24H0V0z\" fill=\"none\"/>\n",
              "    <path d=\"M18.56 5.44l.94 2.06.94-2.06 2.06-.94-2.06-.94-.94-2.06-.94 2.06-2.06.94zm-11 1L8.5 8.5l.94-2.06 2.06-.94-2.06-.94L8.5 2.5l-.94 2.06-2.06.94zm10 10l.94 2.06.94-2.06 2.06-.94-2.06-.94-.94-2.06-.94 2.06-2.06.94z\"/><path d=\"M17.41 7.96l-1.37-1.37c-.4-.4-.92-.59-1.43-.59-.52 0-1.04.2-1.43.59L10.3 9.45l-7.72 7.72c-.78.78-.78 2.05 0 2.83L4 21.41c.39.39.9.59 1.41.59.51 0 1.02-.2 1.41-.59l7.78-7.78 2.81-2.81c.8-.78.8-2.07 0-2.86zM5.41 20L4 18.59l7.72-7.72 1.47 1.35L5.41 20z\"/>\n",
              "  </svg>\n",
              "      </button>\n",
              "      \n",
              "  <style>\n",
              "    .colab-df-container {\n",
              "      display:flex;\n",
              "      flex-wrap:wrap;\n",
              "      gap: 12px;\n",
              "    }\n",
              "\n",
              "    .colab-df-convert {\n",
              "      background-color: #E8F0FE;\n",
              "      border: none;\n",
              "      border-radius: 50%;\n",
              "      cursor: pointer;\n",
              "      display: none;\n",
              "      fill: #1967D2;\n",
              "      height: 32px;\n",
              "      padding: 0 0 0 0;\n",
              "      width: 32px;\n",
              "    }\n",
              "\n",
              "    .colab-df-convert:hover {\n",
              "      background-color: #E2EBFA;\n",
              "      box-shadow: 0px 1px 2px rgba(60, 64, 67, 0.3), 0px 1px 3px 1px rgba(60, 64, 67, 0.15);\n",
              "      fill: #174EA6;\n",
              "    }\n",
              "\n",
              "    [theme=dark] .colab-df-convert {\n",
              "      background-color: #3B4455;\n",
              "      fill: #D2E3FC;\n",
              "    }\n",
              "\n",
              "    [theme=dark] .colab-df-convert:hover {\n",
              "      background-color: #434B5C;\n",
              "      box-shadow: 0px 1px 3px 1px rgba(0, 0, 0, 0.15);\n",
              "      filter: drop-shadow(0px 1px 2px rgba(0, 0, 0, 0.3));\n",
              "      fill: #FFFFFF;\n",
              "    }\n",
              "  </style>\n",
              "\n",
              "      <script>\n",
              "        const buttonEl =\n",
              "          document.querySelector('#df-80659239-a01f-44e3-91e5-9b40cc30681e button.colab-df-convert');\n",
              "        buttonEl.style.display =\n",
              "          google.colab.kernel.accessAllowed ? 'block' : 'none';\n",
              "\n",
              "        async function convertToInteractive(key) {\n",
              "          const element = document.querySelector('#df-80659239-a01f-44e3-91e5-9b40cc30681e');\n",
              "          const dataTable =\n",
              "            await google.colab.kernel.invokeFunction('convertToInteractive',\n",
              "                                                     [key], {});\n",
              "          if (!dataTable) return;\n",
              "\n",
              "          const docLinkHtml = 'Like what you see? Visit the ' +\n",
              "            '<a target=\"_blank\" href=https://colab.research.google.com/notebooks/data_table.ipynb>data table notebook</a>'\n",
              "            + ' to learn more about interactive tables.';\n",
              "          element.innerHTML = '';\n",
              "          dataTable['output_type'] = 'display_data';\n",
              "          await google.colab.output.renderOutput(dataTable, element);\n",
              "          const docLink = document.createElement('div');\n",
              "          docLink.innerHTML = docLinkHtml;\n",
              "          element.appendChild(docLink);\n",
              "        }\n",
              "      </script>\n",
              "    </div>\n",
              "  </div>\n",
              "  "
            ]
          },
          "metadata": {},
          "execution_count": 6
        }
      ]
    },
    {
      "cell_type": "code",
      "source": [
        "df.info()"
      ],
      "metadata": {
        "colab": {
          "base_uri": "https://localhost:8080/"
        },
        "id": "hBJ5NAGyGAtX",
        "outputId": "c4203917-7de9-4580-f723-4e70aacf9eef"
      },
      "execution_count": 7,
      "outputs": [
        {
          "output_type": "stream",
          "name": "stdout",
          "text": [
            "<class 'pandas.core.frame.DataFrame'>\n",
            "RangeIndex: 36 entries, 0 to 35\n",
            "Columns: 7466 entries, Unnamed: 0 to y\n",
            "dtypes: int64(7465), object(1)\n",
            "memory usage: 2.1+ MB\n"
          ]
        }
      ]
    },
    {
      "cell_type": "code",
      "source": [
        "df.isnull().sum()"
      ],
      "metadata": {
        "colab": {
          "base_uri": "https://localhost:8080/"
        },
        "id": "XQScP2D4GDPs",
        "outputId": "2ebdec61-74e8-4b2c-8f98-0adf5874227d"
      },
      "execution_count": 8,
      "outputs": [
        {
          "output_type": "execute_result",
          "data": {
            "text/plain": [
              "Unnamed: 0    0\n",
              "X53416        0\n",
              "M83670        0\n",
              "X90908        0\n",
              "M97496        0\n",
              "             ..\n",
              "M13699.1      0\n",
              "X54489        0\n",
              "T55008        0\n",
              "M10065.2      0\n",
              "y             0\n",
              "Length: 7466, dtype: int64"
            ]
          },
          "metadata": {},
          "execution_count": 8
        }
      ]
    },
    {
      "cell_type": "markdown",
      "source": [
        "Unnamed 컬럼 지우기"
      ],
      "metadata": {
        "id": "atRif-c2GIm7"
      }
    },
    {
      "cell_type": "code",
      "source": [
        "df.drop(columns=['Unnamed: 0'], axis=1,inplace=True)\n",
        "# inplace=True 따로 변수에 저장하지 않아도 완전히 삭제"
      ],
      "metadata": {
        "id": "qphUukoMGGzO"
      },
      "execution_count": 9,
      "outputs": []
    },
    {
      "cell_type": "code",
      "source": [
        "df.columns"
      ],
      "metadata": {
        "colab": {
          "base_uri": "https://localhost:8080/"
        },
        "id": "u1IeHjM0GphN",
        "outputId": "a93e31d7-53d0-4a74-fca7-e775a2700a16"
      },
      "execution_count": 10,
      "outputs": [
        {
          "output_type": "execute_result",
          "data": {
            "text/plain": [
              "Index(['X53416', 'M83670', 'X90908', 'M97496', 'X90908.1', 'U37019', 'R48602',\n",
              "       'T96548', 'X64559', 'T55741',\n",
              "       ...\n",
              "       'H87456', 'R64130', 'H11125.1', 'U22055', 'L22524', 'M13699.1',\n",
              "       'X54489', 'T55008', 'M10065.2', 'y'],\n",
              "      dtype='object', length=7465)"
            ]
          },
          "metadata": {},
          "execution_count": 10
        }
      ]
    },
    {
      "cell_type": "markdown",
      "source": [
        "데이터 고유값 확인"
      ],
      "metadata": {
        "id": "KQ2sjn2SGsmZ"
      }
    },
    {
      "cell_type": "code",
      "source": [
        "df['y'].unique()"
      ],
      "metadata": {
        "colab": {
          "base_uri": "https://localhost:8080/"
        },
        "id": "2WZr0Ch8Gq6Z",
        "outputId": "9d056941-0989-418c-98b3-3c3512c3880d"
      },
      "execution_count": 12,
      "outputs": [
        {
          "output_type": "execute_result",
          "data": {
            "text/plain": [
              "array(['tumor', 'Normal'], dtype=object)"
            ]
          },
          "metadata": {},
          "execution_count": 12
        }
      ]
    },
    {
      "cell_type": "markdown",
      "source": [
        "데이터 통계 정보"
      ],
      "metadata": {
        "id": "Fc5L-kHBHBkg"
      }
    },
    {
      "cell_type": "code",
      "source": [
        "df.describe()"
      ],
      "metadata": {
        "colab": {
          "base_uri": "https://localhost:8080/",
          "height": 394
        },
        "id": "K9-GOmSCG24_",
        "outputId": "ddd680f7-adef-44c1-8697-988a18ab3869"
      },
      "execution_count": 14,
      "outputs": [
        {
          "output_type": "execute_result",
          "data": {
            "text/plain": [
              "            X53416      M83670       X90908       M97496     X90908.1  \\\n",
              "count    36.000000   36.000000    36.000000    36.000000    36.000000   \n",
              "mean    378.750000  177.305556   128.027778   568.305556    93.555556   \n",
              "std     648.716067  243.494655   787.935802   637.451928   557.527370   \n",
              "min    -694.000000 -117.000000   -50.000000     8.000000   -54.000000   \n",
              "25%     -95.750000  -31.000000   -13.250000    47.250000    -7.000000   \n",
              "50%     194.500000  117.000000    -4.500000   293.500000     3.000000   \n",
              "75%     721.750000  330.500000    14.000000  1079.250000    10.250000   \n",
              "max    1815.000000  718.000000  4723.000000  2261.000000  3344.000000   \n",
              "\n",
              "            U37019      R48602       T96548      X64559      T55741  ...  \\\n",
              "count    36.000000   36.000000    36.000000   36.000000   36.000000  ...   \n",
              "mean    366.833333  140.166667   644.194444   73.444444   68.055556  ...   \n",
              "std     427.166645  171.443202   685.514231   88.504219   90.766244  ...   \n",
              "min      -6.000000  -18.000000    -8.000000   -8.000000  -14.000000  ...   \n",
              "25%      27.250000   17.750000    33.250000    8.250000   -0.250000  ...   \n",
              "50%     110.500000   37.500000   333.500000   37.500000   23.500000  ...   \n",
              "75%     675.000000  268.500000  1185.250000  107.750000  109.250000  ...   \n",
              "max    1354.000000  718.000000  2203.000000  357.000000  357.000000  ...   \n",
              "\n",
              "           D14657      H87456      R64130     H11125.1      U22055  \\\n",
              "count   36.000000   36.000000   36.000000    36.000000   36.000000   \n",
              "mean    31.750000   71.111111   35.694444    53.194444   38.388889   \n",
              "std     50.036201  118.940748  127.437115   269.630628   47.619490   \n",
              "min    -21.000000  -24.000000  -12.000000 -1484.000000  -73.000000   \n",
              "25%      1.500000    9.000000   -1.250000    59.250000   12.750000   \n",
              "50%     10.000000   55.500000    3.000000    94.000000   36.000000   \n",
              "75%     48.000000   78.750000    6.000000   121.250000   64.000000   \n",
              "max    156.000000  686.000000  686.000000   251.000000  138.000000   \n",
              "\n",
              "           L22524     M13699.1      X54489       T55008     M10065.2  \n",
              "count   36.000000    36.000000   36.000000    36.000000    36.000000  \n",
              "mean    40.944444    41.222222   57.027778    58.694444    44.027778  \n",
              "std     83.763935   251.147778   71.322001   336.030766   224.891782  \n",
              "min    -16.000000   -23.000000   -5.000000   -17.000000  -214.000000  \n",
              "25%      3.500000    -4.750000    7.000000    -5.000000   -72.750000  \n",
              "50%      7.000000     0.000000   20.000000     1.500000   -12.000000  \n",
              "75%     39.500000     6.500000   98.250000     7.000000    74.250000  \n",
              "max    444.000000  1505.000000  271.000000  2018.000000  1089.000000  \n",
              "\n",
              "[8 rows x 7464 columns]"
            ],
            "text/html": [
              "\n",
              "  <div id=\"df-a5c8921b-eefd-4480-9c93-aa22b3b706e9\">\n",
              "    <div class=\"colab-df-container\">\n",
              "      <div>\n",
              "<style scoped>\n",
              "    .dataframe tbody tr th:only-of-type {\n",
              "        vertical-align: middle;\n",
              "    }\n",
              "\n",
              "    .dataframe tbody tr th {\n",
              "        vertical-align: top;\n",
              "    }\n",
              "\n",
              "    .dataframe thead th {\n",
              "        text-align: right;\n",
              "    }\n",
              "</style>\n",
              "<table border=\"1\" class=\"dataframe\">\n",
              "  <thead>\n",
              "    <tr style=\"text-align: right;\">\n",
              "      <th></th>\n",
              "      <th>X53416</th>\n",
              "      <th>M83670</th>\n",
              "      <th>X90908</th>\n",
              "      <th>M97496</th>\n",
              "      <th>X90908.1</th>\n",
              "      <th>U37019</th>\n",
              "      <th>R48602</th>\n",
              "      <th>T96548</th>\n",
              "      <th>X64559</th>\n",
              "      <th>T55741</th>\n",
              "      <th>...</th>\n",
              "      <th>D14657</th>\n",
              "      <th>H87456</th>\n",
              "      <th>R64130</th>\n",
              "      <th>H11125.1</th>\n",
              "      <th>U22055</th>\n",
              "      <th>L22524</th>\n",
              "      <th>M13699.1</th>\n",
              "      <th>X54489</th>\n",
              "      <th>T55008</th>\n",
              "      <th>M10065.2</th>\n",
              "    </tr>\n",
              "  </thead>\n",
              "  <tbody>\n",
              "    <tr>\n",
              "      <th>count</th>\n",
              "      <td>36.000000</td>\n",
              "      <td>36.000000</td>\n",
              "      <td>36.000000</td>\n",
              "      <td>36.000000</td>\n",
              "      <td>36.000000</td>\n",
              "      <td>36.000000</td>\n",
              "      <td>36.000000</td>\n",
              "      <td>36.000000</td>\n",
              "      <td>36.000000</td>\n",
              "      <td>36.000000</td>\n",
              "      <td>...</td>\n",
              "      <td>36.000000</td>\n",
              "      <td>36.000000</td>\n",
              "      <td>36.000000</td>\n",
              "      <td>36.000000</td>\n",
              "      <td>36.000000</td>\n",
              "      <td>36.000000</td>\n",
              "      <td>36.000000</td>\n",
              "      <td>36.000000</td>\n",
              "      <td>36.000000</td>\n",
              "      <td>36.000000</td>\n",
              "    </tr>\n",
              "    <tr>\n",
              "      <th>mean</th>\n",
              "      <td>378.750000</td>\n",
              "      <td>177.305556</td>\n",
              "      <td>128.027778</td>\n",
              "      <td>568.305556</td>\n",
              "      <td>93.555556</td>\n",
              "      <td>366.833333</td>\n",
              "      <td>140.166667</td>\n",
              "      <td>644.194444</td>\n",
              "      <td>73.444444</td>\n",
              "      <td>68.055556</td>\n",
              "      <td>...</td>\n",
              "      <td>31.750000</td>\n",
              "      <td>71.111111</td>\n",
              "      <td>35.694444</td>\n",
              "      <td>53.194444</td>\n",
              "      <td>38.388889</td>\n",
              "      <td>40.944444</td>\n",
              "      <td>41.222222</td>\n",
              "      <td>57.027778</td>\n",
              "      <td>58.694444</td>\n",
              "      <td>44.027778</td>\n",
              "    </tr>\n",
              "    <tr>\n",
              "      <th>std</th>\n",
              "      <td>648.716067</td>\n",
              "      <td>243.494655</td>\n",
              "      <td>787.935802</td>\n",
              "      <td>637.451928</td>\n",
              "      <td>557.527370</td>\n",
              "      <td>427.166645</td>\n",
              "      <td>171.443202</td>\n",
              "      <td>685.514231</td>\n",
              "      <td>88.504219</td>\n",
              "      <td>90.766244</td>\n",
              "      <td>...</td>\n",
              "      <td>50.036201</td>\n",
              "      <td>118.940748</td>\n",
              "      <td>127.437115</td>\n",
              "      <td>269.630628</td>\n",
              "      <td>47.619490</td>\n",
              "      <td>83.763935</td>\n",
              "      <td>251.147778</td>\n",
              "      <td>71.322001</td>\n",
              "      <td>336.030766</td>\n",
              "      <td>224.891782</td>\n",
              "    </tr>\n",
              "    <tr>\n",
              "      <th>min</th>\n",
              "      <td>-694.000000</td>\n",
              "      <td>-117.000000</td>\n",
              "      <td>-50.000000</td>\n",
              "      <td>8.000000</td>\n",
              "      <td>-54.000000</td>\n",
              "      <td>-6.000000</td>\n",
              "      <td>-18.000000</td>\n",
              "      <td>-8.000000</td>\n",
              "      <td>-8.000000</td>\n",
              "      <td>-14.000000</td>\n",
              "      <td>...</td>\n",
              "      <td>-21.000000</td>\n",
              "      <td>-24.000000</td>\n",
              "      <td>-12.000000</td>\n",
              "      <td>-1484.000000</td>\n",
              "      <td>-73.000000</td>\n",
              "      <td>-16.000000</td>\n",
              "      <td>-23.000000</td>\n",
              "      <td>-5.000000</td>\n",
              "      <td>-17.000000</td>\n",
              "      <td>-214.000000</td>\n",
              "    </tr>\n",
              "    <tr>\n",
              "      <th>25%</th>\n",
              "      <td>-95.750000</td>\n",
              "      <td>-31.000000</td>\n",
              "      <td>-13.250000</td>\n",
              "      <td>47.250000</td>\n",
              "      <td>-7.000000</td>\n",
              "      <td>27.250000</td>\n",
              "      <td>17.750000</td>\n",
              "      <td>33.250000</td>\n",
              "      <td>8.250000</td>\n",
              "      <td>-0.250000</td>\n",
              "      <td>...</td>\n",
              "      <td>1.500000</td>\n",
              "      <td>9.000000</td>\n",
              "      <td>-1.250000</td>\n",
              "      <td>59.250000</td>\n",
              "      <td>12.750000</td>\n",
              "      <td>3.500000</td>\n",
              "      <td>-4.750000</td>\n",
              "      <td>7.000000</td>\n",
              "      <td>-5.000000</td>\n",
              "      <td>-72.750000</td>\n",
              "    </tr>\n",
              "    <tr>\n",
              "      <th>50%</th>\n",
              "      <td>194.500000</td>\n",
              "      <td>117.000000</td>\n",
              "      <td>-4.500000</td>\n",
              "      <td>293.500000</td>\n",
              "      <td>3.000000</td>\n",
              "      <td>110.500000</td>\n",
              "      <td>37.500000</td>\n",
              "      <td>333.500000</td>\n",
              "      <td>37.500000</td>\n",
              "      <td>23.500000</td>\n",
              "      <td>...</td>\n",
              "      <td>10.000000</td>\n",
              "      <td>55.500000</td>\n",
              "      <td>3.000000</td>\n",
              "      <td>94.000000</td>\n",
              "      <td>36.000000</td>\n",
              "      <td>7.000000</td>\n",
              "      <td>0.000000</td>\n",
              "      <td>20.000000</td>\n",
              "      <td>1.500000</td>\n",
              "      <td>-12.000000</td>\n",
              "    </tr>\n",
              "    <tr>\n",
              "      <th>75%</th>\n",
              "      <td>721.750000</td>\n",
              "      <td>330.500000</td>\n",
              "      <td>14.000000</td>\n",
              "      <td>1079.250000</td>\n",
              "      <td>10.250000</td>\n",
              "      <td>675.000000</td>\n",
              "      <td>268.500000</td>\n",
              "      <td>1185.250000</td>\n",
              "      <td>107.750000</td>\n",
              "      <td>109.250000</td>\n",
              "      <td>...</td>\n",
              "      <td>48.000000</td>\n",
              "      <td>78.750000</td>\n",
              "      <td>6.000000</td>\n",
              "      <td>121.250000</td>\n",
              "      <td>64.000000</td>\n",
              "      <td>39.500000</td>\n",
              "      <td>6.500000</td>\n",
              "      <td>98.250000</td>\n",
              "      <td>7.000000</td>\n",
              "      <td>74.250000</td>\n",
              "    </tr>\n",
              "    <tr>\n",
              "      <th>max</th>\n",
              "      <td>1815.000000</td>\n",
              "      <td>718.000000</td>\n",
              "      <td>4723.000000</td>\n",
              "      <td>2261.000000</td>\n",
              "      <td>3344.000000</td>\n",
              "      <td>1354.000000</td>\n",
              "      <td>718.000000</td>\n",
              "      <td>2203.000000</td>\n",
              "      <td>357.000000</td>\n",
              "      <td>357.000000</td>\n",
              "      <td>...</td>\n",
              "      <td>156.000000</td>\n",
              "      <td>686.000000</td>\n",
              "      <td>686.000000</td>\n",
              "      <td>251.000000</td>\n",
              "      <td>138.000000</td>\n",
              "      <td>444.000000</td>\n",
              "      <td>1505.000000</td>\n",
              "      <td>271.000000</td>\n",
              "      <td>2018.000000</td>\n",
              "      <td>1089.000000</td>\n",
              "    </tr>\n",
              "  </tbody>\n",
              "</table>\n",
              "<p>8 rows × 7464 columns</p>\n",
              "</div>\n",
              "      <button class=\"colab-df-convert\" onclick=\"convertToInteractive('df-a5c8921b-eefd-4480-9c93-aa22b3b706e9')\"\n",
              "              title=\"Convert this dataframe to an interactive table.\"\n",
              "              style=\"display:none;\">\n",
              "        \n",
              "  <svg xmlns=\"http://www.w3.org/2000/svg\" height=\"24px\"viewBox=\"0 0 24 24\"\n",
              "       width=\"24px\">\n",
              "    <path d=\"M0 0h24v24H0V0z\" fill=\"none\"/>\n",
              "    <path d=\"M18.56 5.44l.94 2.06.94-2.06 2.06-.94-2.06-.94-.94-2.06-.94 2.06-2.06.94zm-11 1L8.5 8.5l.94-2.06 2.06-.94-2.06-.94L8.5 2.5l-.94 2.06-2.06.94zm10 10l.94 2.06.94-2.06 2.06-.94-2.06-.94-.94-2.06-.94 2.06-2.06.94z\"/><path d=\"M17.41 7.96l-1.37-1.37c-.4-.4-.92-.59-1.43-.59-.52 0-1.04.2-1.43.59L10.3 9.45l-7.72 7.72c-.78.78-.78 2.05 0 2.83L4 21.41c.39.39.9.59 1.41.59.51 0 1.02-.2 1.41-.59l7.78-7.78 2.81-2.81c.8-.78.8-2.07 0-2.86zM5.41 20L4 18.59l7.72-7.72 1.47 1.35L5.41 20z\"/>\n",
              "  </svg>\n",
              "      </button>\n",
              "      \n",
              "  <style>\n",
              "    .colab-df-container {\n",
              "      display:flex;\n",
              "      flex-wrap:wrap;\n",
              "      gap: 12px;\n",
              "    }\n",
              "\n",
              "    .colab-df-convert {\n",
              "      background-color: #E8F0FE;\n",
              "      border: none;\n",
              "      border-radius: 50%;\n",
              "      cursor: pointer;\n",
              "      display: none;\n",
              "      fill: #1967D2;\n",
              "      height: 32px;\n",
              "      padding: 0 0 0 0;\n",
              "      width: 32px;\n",
              "    }\n",
              "\n",
              "    .colab-df-convert:hover {\n",
              "      background-color: #E2EBFA;\n",
              "      box-shadow: 0px 1px 2px rgba(60, 64, 67, 0.3), 0px 1px 3px 1px rgba(60, 64, 67, 0.15);\n",
              "      fill: #174EA6;\n",
              "    }\n",
              "\n",
              "    [theme=dark] .colab-df-convert {\n",
              "      background-color: #3B4455;\n",
              "      fill: #D2E3FC;\n",
              "    }\n",
              "\n",
              "    [theme=dark] .colab-df-convert:hover {\n",
              "      background-color: #434B5C;\n",
              "      box-shadow: 0px 1px 3px 1px rgba(0, 0, 0, 0.15);\n",
              "      filter: drop-shadow(0px 1px 2px rgba(0, 0, 0, 0.3));\n",
              "      fill: #FFFFFF;\n",
              "    }\n",
              "  </style>\n",
              "\n",
              "      <script>\n",
              "        const buttonEl =\n",
              "          document.querySelector('#df-a5c8921b-eefd-4480-9c93-aa22b3b706e9 button.colab-df-convert');\n",
              "        buttonEl.style.display =\n",
              "          google.colab.kernel.accessAllowed ? 'block' : 'none';\n",
              "\n",
              "        async function convertToInteractive(key) {\n",
              "          const element = document.querySelector('#df-a5c8921b-eefd-4480-9c93-aa22b3b706e9');\n",
              "          const dataTable =\n",
              "            await google.colab.kernel.invokeFunction('convertToInteractive',\n",
              "                                                     [key], {});\n",
              "          if (!dataTable) return;\n",
              "\n",
              "          const docLinkHtml = 'Like what you see? Visit the ' +\n",
              "            '<a target=\"_blank\" href=https://colab.research.google.com/notebooks/data_table.ipynb>data table notebook</a>'\n",
              "            + ' to learn more about interactive tables.';\n",
              "          element.innerHTML = '';\n",
              "          dataTable['output_type'] = 'display_data';\n",
              "          await google.colab.output.renderOutput(dataTable, element);\n",
              "          const docLink = document.createElement('div');\n",
              "          docLink.innerHTML = docLinkHtml;\n",
              "          element.appendChild(docLink);\n",
              "        }\n",
              "      </script>\n",
              "    </div>\n",
              "  </div>\n",
              "  "
            ]
          },
          "metadata": {},
          "execution_count": 14
        }
      ]
    },
    {
      "cell_type": "code",
      "source": [
        "X = df.iloc[:,:-1].values\n",
        "y = df.iloc[:,-1].values\n",
        "'''\n",
        "df.iloc[행, 열] - 둘 다 행은 모두 가져옴\n",
        "X - 첫 번째 열부터 마지막 것 빼고 다 가져오기\n",
        "y - 맨 마지막 열만 가져오기\n",
        "'''"
      ],
      "metadata": {
        "colab": {
          "base_uri": "https://localhost:8080/",
          "height": 53
        },
        "id": "uI5OQ2C8HHXx",
        "outputId": "521766dd-df89-419b-c9a7-b61c31bbea54"
      },
      "execution_count": 16,
      "outputs": [
        {
          "output_type": "execute_result",
          "data": {
            "text/plain": [
              "'\\ndf.iloc[행, 열] - 둘 다 행은 모두 가져옴\\nX - 첫 번째 열부터 마지막 것 빼고 다 가져오기\\ny - 맨 마지막 열만 가져오기\\n'"
            ],
            "application/vnd.google.colaboratory.intrinsic+json": {
              "type": "string"
            }
          },
          "metadata": {},
          "execution_count": 16
        }
      ]
    },
    {
      "cell_type": "markdown",
      "source": [
        "Label Encoding: 데이터 값 0,1로 바꾸기"
      ],
      "metadata": {
        "id": "FDkY4VSLI6ip"
      }
    },
    {
      "cell_type": "code",
      "source": [
        "from sklearn import preprocessing\n",
        "label_encoder = preprocessing.LabelEncoder()\n",
        "df['y'] = label_encoder.fit_transform(df['y'])"
      ],
      "metadata": {
        "id": "zsRM9wQ3HhKD"
      },
      "execution_count": 17,
      "outputs": []
    },
    {
      "cell_type": "code",
      "source": [
        "df['y'].unique()"
      ],
      "metadata": {
        "colab": {
          "base_uri": "https://localhost:8080/"
        },
        "id": "px_hVwZMJSga",
        "outputId": "7533317b-8f3c-4ba1-a0c5-acea2cd3578a"
      },
      "execution_count": 18,
      "outputs": [
        {
          "output_type": "execute_result",
          "data": {
            "text/plain": [
              "array([1, 0])"
            ]
          },
          "metadata": {},
          "execution_count": 18
        }
      ]
    },
    {
      "cell_type": "markdown",
      "source": [
        "학습, 테스트 데이터 나누기"
      ],
      "metadata": {
        "id": "5_GIrJHcJW9s"
      }
    },
    {
      "cell_type": "code",
      "source": [
        "from sklearn.model_selection import train_test_split\n",
        "X_train, X_test, y_train, y_test = train_test_split(X,y,test_size=.2, random_state=42)"
      ],
      "metadata": {
        "id": "si2BwajfJUgS"
      },
      "execution_count": 19,
      "outputs": []
    },
    {
      "cell_type": "markdown",
      "source": [
        "Training Data"
      ],
      "metadata": {
        "id": "2z1OYWCDJu34"
      }
    },
    {
      "cell_type": "code",
      "source": [
        "X_train"
      ],
      "metadata": {
        "colab": {
          "base_uri": "https://localhost:8080/"
        },
        "id": "gxcnykv2JtJJ",
        "outputId": "9fcff633-b131-4872-f551-863fcfc2313d"
      },
      "execution_count": 20,
      "outputs": [
        {
          "output_type": "execute_result",
          "data": {
            "text/plain": [
              "array([[-378,   31,  -29, ...,   97,    0,  -51],\n",
              "       [  71, -117,   -1, ...,  114,    1, 1089],\n",
              "       [ 475,  -79,   20, ...,   76,   11,   22],\n",
              "       ...,\n",
              "       [-346,  -35,   37, ...,   30,   -5,  -53],\n",
              "       [-357,    6,   20, ...,   52,   -1,  -72],\n",
              "       [1122,  416,   -7, ...,   16,  -17,  -10]])"
            ]
          },
          "metadata": {},
          "execution_count": 20
        }
      ]
    },
    {
      "cell_type": "code",
      "source": [
        "y_train"
      ],
      "metadata": {
        "colab": {
          "base_uri": "https://localhost:8080/"
        },
        "id": "U-JsJnDfJybJ",
        "outputId": "83920afc-8449-4e2e-88e5-3be0436bc2c2"
      },
      "execution_count": 21,
      "outputs": [
        {
          "output_type": "execute_result",
          "data": {
            "text/plain": [
              "array(['tumor', 'tumor', 'tumor', 'Normal', 'tumor', 'tumor', 'Normal',\n",
              "       'tumor', 'Normal', 'tumor', 'tumor', 'tumor', 'Normal', 'tumor',\n",
              "       'Normal', 'tumor', 'Normal', 'Normal', 'Normal', 'tumor', 'Normal',\n",
              "       'Normal', 'Normal', 'tumor', 'Normal', 'tumor', 'tumor', 'Normal'],\n",
              "      dtype=object)"
            ]
          },
          "metadata": {},
          "execution_count": 21
        }
      ]
    },
    {
      "cell_type": "markdown",
      "source": [
        "Testing Data"
      ],
      "metadata": {
        "id": "MjgjCEz9J3W-"
      }
    },
    {
      "cell_type": "code",
      "source": [
        "X_test"
      ],
      "metadata": {
        "colab": {
          "base_uri": "https://localhost:8080/"
        },
        "id": "oBPczHo7J0cP",
        "outputId": "2d106301-d3b4-4091-b011-78ca4cdc05df"
      },
      "execution_count": 23,
      "outputs": [
        {
          "output_type": "execute_result",
          "data": {
            "text/plain": [
              "array([[ 928,  332,    4, ...,   32,   -5,   72],\n",
              "       [-694,  -45,  -34, ...,  179,   -1, -139],\n",
              "       [ 632,  185, 4723, ...,    3,   -4, -103],\n",
              "       ...,\n",
              "       [ 488,  564,  -29, ...,   11,    7, -145],\n",
              "       [ 462,  379,  -21, ...,   10,   -5,   66],\n",
              "       [ 465, -104,    5, ...,  131,   -5,  267]])"
            ]
          },
          "metadata": {},
          "execution_count": 23
        }
      ]
    },
    {
      "cell_type": "code",
      "source": [
        "y_test"
      ],
      "metadata": {
        "colab": {
          "base_uri": "https://localhost:8080/"
        },
        "id": "1m9V-YoRJ54F",
        "outputId": "c48c65e9-7269-4280-817a-230a6352f5e6"
      },
      "execution_count": 24,
      "outputs": [
        {
          "output_type": "execute_result",
          "data": {
            "text/plain": [
              "array(['Normal', 'tumor', 'Normal', 'Normal', 'tumor', 'Normal', 'Normal',\n",
              "       'tumor'], dtype=object)"
            ]
          },
          "metadata": {},
          "execution_count": 24
        }
      ]
    },
    {
      "cell_type": "markdown",
      "source": [
        "데이터 변환"
      ],
      "metadata": {
        "id": "paOxwfPAKCHE"
      }
    },
    {
      "cell_type": "code",
      "source": [
        "from sklearn.preprocessing import StandardScaler # ~1로 데이터 변환(데이터 범주변환)\n",
        "sc=StandardScaler()\n",
        "X_train=sc.fit_transform(X_train)\n",
        "X_test=sc.transform(X_test)"
      ],
      "metadata": {
        "id": "m_1D91ygJ8Kr"
      },
      "execution_count": 25,
      "outputs": []
    },
    {
      "cell_type": "code",
      "source": [
        "X_train"
      ],
      "metadata": {
        "colab": {
          "base_uri": "https://localhost:8080/"
        },
        "id": "uA1Bn49DKSkg",
        "outputId": "03bb6e7d-b11c-43fa-94ca-b744723c34fa"
      },
      "execution_count": 26,
      "outputs": [
        {
          "output_type": "execute_result",
          "data": {
            "text/plain": [
              "array([[-1.16152576, -0.57125   , -1.45171125, ...,  0.55857091,\n",
              "        -0.40427083, -0.40206435],\n",
              "       [-0.44373664, -1.17715222,  0.04387564, ...,  0.79282619,\n",
              "        -0.30834216,  4.49823886],\n",
              "       [ 0.2021137 , -1.02158273,  1.1655658 , ...,  0.26919673,\n",
              "         0.65094455, -0.08827301],\n",
              "       ...,\n",
              "       [-1.11036929, -0.84144964,  2.0736007 , ..., -0.36467052,\n",
              "        -0.88391419, -0.41066137],\n",
              "       [-1.12795433, -0.67359835,  1.1655658 , ..., -0.06151662,\n",
              "        -0.5001995 , -0.4923331 ],\n",
              "       [ 1.23643344,  1.00491457, -0.27660727, ..., -0.55758664,\n",
              "        -2.03505824, -0.22582538]])"
            ]
          },
          "metadata": {},
          "execution_count": 26
        }
      ]
    },
    {
      "cell_type": "markdown",
      "source": [
        "X_trian, y_train Shape"
      ],
      "metadata": {
        "id": "xyIY12gmKrDI"
      }
    },
    {
      "cell_type": "code",
      "source": [
        "print(X_train.shape)\n",
        "print(y_train.shape)"
      ],
      "metadata": {
        "colab": {
          "base_uri": "https://localhost:8080/"
        },
        "id": "6Zsm_nUYKW-t",
        "outputId": "86d730e3-2aad-4e0b-d013-b32ea5d51816"
      },
      "execution_count": 27,
      "outputs": [
        {
          "output_type": "stream",
          "name": "stdout",
          "text": [
            "(28, 7464)\n",
            "(28,)\n"
          ]
        }
      ]
    },
    {
      "cell_type": "markdown",
      "source": [
        "### ML(classification)\n",
        "- Logistic Regression\n",
        "  - 회귀를 사용하여 데이터가 어떤 범주에 속할 확률을 0에서 1 사이의 값으로 예측하고 그 확률에 따라 가능성이 더 높은 범주에 속하는 것으로 분류해주는 지도 학습 알고리즘이다.\n",
        "- kNN(KNearest Neighbors)\n",
        "- Random Forest Flssifier\n",
        "- Decision Tree Classifier"
      ],
      "metadata": {
        "id": "IasDKPXBK32Y"
      }
    },
    {
      "cell_type": "markdown",
      "source": [
        "### Logistic Regression"
      ],
      "metadata": {
        "id": "trndy_NKMQIb"
      }
    },
    {
      "cell_type": "code",
      "source": [
        "# 모델 빌드\n",
        "from sklearn.linear_model import LogisticRegression\n",
        "# 학습\n",
        "log_reg = LogisticRegression()\n",
        "log_reg.fit(X_train, y_train)"
      ],
      "metadata": {
        "colab": {
          "base_uri": "https://localhost:8080/"
        },
        "id": "yMVfv0MCK0pV",
        "outputId": "e8113a4c-348e-4144-eed3-3cec577bced0"
      },
      "execution_count": 32,
      "outputs": [
        {
          "output_type": "execute_result",
          "data": {
            "text/plain": [
              "LogisticRegression()"
            ]
          },
          "metadata": {},
          "execution_count": 32
        }
      ]
    },
    {
      "cell_type": "code",
      "source": [
        "# 예측\n",
        "y_predict = log_reg.predict(X_test)\n",
        "y_predict"
      ],
      "metadata": {
        "colab": {
          "base_uri": "https://localhost:8080/"
        },
        "id": "whlFS5AkMnfR",
        "outputId": "a9225335-d4af-49c3-d700-9ae4c590e3e8"
      },
      "execution_count": 34,
      "outputs": [
        {
          "output_type": "execute_result",
          "data": {
            "text/plain": [
              "array(['Normal', 'tumor', 'Normal', 'Normal', 'tumor', 'Normal', 'Normal',\n",
              "       'tumor'], dtype=object)"
            ]
          },
          "metadata": {},
          "execution_count": 34
        }
      ]
    },
    {
      "cell_type": "code",
      "source": [
        "# 정확도\n",
        "score = log_reg.score(X_test, y_test)\n",
        "print(score)"
      ],
      "metadata": {
        "colab": {
          "base_uri": "https://localhost:8080/"
        },
        "id": "f0fUs-qYMxc-",
        "outputId": "3b8a9598-c527-491f-d942-803c5c788319"
      },
      "execution_count": 36,
      "outputs": [
        {
          "output_type": "stream",
          "name": "stdout",
          "text": [
            "1.0\n"
          ]
        }
      ]
    },
    {
      "cell_type": "code",
      "source": [
        "# 오차행렬\n",
        "from sklearn import metrics\n",
        "cnf_matrix = metrics.confusion_matrix(y_test, y_predict) \n",
        "cnf_matrix"
      ],
      "metadata": {
        "colab": {
          "base_uri": "https://localhost:8080/"
        },
        "id": "CGGYd1zDNU8L",
        "outputId": "363784b6-a1ae-4b1e-95bd-08517de7e9bd"
      },
      "execution_count": 38,
      "outputs": [
        {
          "output_type": "execute_result",
          "data": {
            "text/plain": [
              "array([[5, 0],\n",
              "       [0, 3]])"
            ]
          },
          "metadata": {},
          "execution_count": 38
        }
      ]
    },
    {
      "cell_type": "code",
      "source": [
        "# 평가지표\n",
        "from sklearn.metrics import classification_report\n",
        "print(classification_report(y_test, y_predict))"
      ],
      "metadata": {
        "colab": {
          "base_uri": "https://localhost:8080/"
        },
        "id": "iP-N4qu7P26A",
        "outputId": "67b63e98-d4b8-4f01-98c6-1f3b3cf0970a"
      },
      "execution_count": 40,
      "outputs": [
        {
          "output_type": "stream",
          "name": "stdout",
          "text": [
            "              precision    recall  f1-score   support\n",
            "\n",
            "      Normal       1.00      1.00      1.00         5\n",
            "       tumor       1.00      1.00      1.00         3\n",
            "\n",
            "    accuracy                           1.00         8\n",
            "   macro avg       1.00      1.00      1.00         8\n",
            "weighted avg       1.00      1.00      1.00         8\n",
            "\n"
          ]
        }
      ]
    },
    {
      "cell_type": "code",
      "source": [
        "# 로지스틱 회귀분석의 오차행렬도\n",
        "from sklearn.metrics import confusion_matrix\n",
        "pred_list = [log_reg]\n",
        "\n",
        "for i in pred_list:\n",
        "  print(\"Score : \", i.score(X_test,y_test))\n",
        "  y_pred = i.predict(X_test)\n",
        "  sns.heatmap(confusion_matrix(y_test,y_pred), annot=True)\n",
        "  \n",
        "  plt.xlabel(\"Y_pred\")\n",
        "  plt.ylabel(\"Y_test\")\n",
        "  plt.title(i)\n",
        "  plt.show()"
      ],
      "metadata": {
        "colab": {
          "base_uri": "https://localhost:8080/",
          "height": 314
        },
        "id": "S7GSV4FUQRZf",
        "outputId": "658ffd5c-c85e-410c-c460-93d0e7f258f0"
      },
      "execution_count": 41,
      "outputs": [
        {
          "output_type": "stream",
          "name": "stdout",
          "text": [
            "Score :  1.0\n"
          ]
        },
        {
          "output_type": "display_data",
          "data": {
            "text/plain": [
              "<Figure size 432x288 with 2 Axes>"
            ],
            "image/png": "[encoded data removed]"
          },
          "metadata": {
            "needs_background": "light"
          }
        }
      ]
    },
    {
      "cell_type": "code",
      "source": [],
      "metadata": {
        "id": "EoCBOhNNRS3D"
      },
      "execution_count": null,
      "outputs": []
    }
  ]
}