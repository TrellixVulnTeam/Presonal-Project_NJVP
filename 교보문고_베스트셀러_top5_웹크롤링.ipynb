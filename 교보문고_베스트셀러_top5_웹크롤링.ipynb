{
 "cells": [
  {
   "cell_type": "code",
   "execution_count": 1,
   "id": "bc15fea7",
   "metadata": {},
   "outputs": [
    {
     "name": "stdout",
     "output_type": "stream",
     "text": [
      "1 하얼빈 - 교보문고 김훈 http://image.kyobobook.co.kr/images/book/xlarge/914/x9788954699914.jpg http://www.kyobobook.co.kr/product/detailViewKor.laf?mallGb=KOR&ejkGb=KOR&barcode=9788954699914 14400\n",
      "2 흔한남매 11 - 교보문고 흔한남매 (원작) http://image.kyobobook.co.kr/images/book/xlarge/477/x9791168412477.jpg http://www.kyobobook.co.kr/product/detailViewKor.laf?mallGb=KOR&ejkGb=KOR&barcode=9791168412477 13050\n",
      "3 헤어질 결심 각본 - 교보문고 정서경 http://image.kyobobook.co.kr/images/book/xlarge/755/x9788932474755.jpg http://www.kyobobook.co.kr/product/detailViewKor.laf?mallGb=KOR&ejkGb=KOR&barcode=9788932474755 13500\n",
      "4 파친코 1 - 교보문고 이민진 http://image.kyobobook.co.kr/images/book/xlarge/510/x9791168340510.jpg http://www.kyobobook.co.kr/product/detailViewKor.laf?mallGb=KOR&ejkGb=KOR&barcode=9791168340510 14220\n",
      "5 역행자 - 교보문고 자청 http://image.kyobobook.co.kr/images/book/xlarge/716/x9788901260716.jpg http://www.kyobobook.co.kr/product/detailViewKor.laf?mallGb=KOR&ejkGb=KOR&barcode=9788901260716 15750\n",
      "6 계속 가보겠습니다 - 교보문고 임은정 http://image.kyobobook.co.kr/images/book/xlarge/645/x9791157062645.jpg http://www.kyobobook.co.kr/product/detailViewKor.laf?mallGb=KOR&ejkGb=KOR&barcode=9791157062645 16200\n",
      "7 불편한 편의점(40만부 기념 벚꽃 에디션) - 교보문고 김호연 http://image.kyobobook.co.kr/images/book/xlarge/188/x9791161571188.jpg http://www.kyobobook.co.kr/product/detailViewKor.laf?mallGb=KOR&ejkGb=KOR&barcode=9791161571188 12600\n",
      "8 세상의 마지막 기차역 - 교보문고 무라세 다케시 http://image.kyobobook.co.kr/images/book/xlarge/754/x9791191043754.jpg http://www.kyobobook.co.kr/product/detailViewKor.laf?mallGb=KOR&ejkGb=KOR&barcode=9791191043754 12600\n",
      "9 삶의 격 - 교보문고 페터 비에리 http://image.kyobobook.co.kr/images/book/xlarge/075/x9788956608075.jpg http://www.kyobobook.co.kr/product/detailViewKor.laf?mallGb=KOR&ejkGb=KOR&barcode=9788956608075 14400\n",
      "10 기분을 관리하면 인생이 관리된다 - 교보문고 김다슬 http://image.kyobobook.co.kr/images/book/xlarge/127/x9791196617127.jpg http://www.kyobobook.co.kr/product/detailViewKor.laf?mallGb=KOR&ejkGb=KOR&barcode=9791196617127 15840\n",
      "11 호감 가는 말투에는 비밀이 있다 - 교보문고 장신웨 http://image.kyobobook.co.kr/images/book/xlarge/641/x9788972773641.jpg http://www.kyobobook.co.kr/product/detailViewKor.laf?mallGb=KOR&ejkGb=KOR&barcode=9788972773641 15120\n",
      "12 어서 오세요, 휴남동 서점입니다 (여름 숲 에디션) - 교보문고 황보름 http://image.kyobobook.co.kr/images/book/xlarge/143/x9791197377143.jpg http://www.kyobobook.co.kr/product/detailViewKor.laf?mallGb=KOR&ejkGb=KOR&barcode=9791197377143 13500\n",
      "13 유럽 도시 기행 2 - 교보문고 유시민 http://image.kyobobook.co.kr/images/book/xlarge/702/x9788965137702.jpg http://www.kyobobook.co.kr/product/detailViewKor.laf?mallGb=KOR&ejkGb=KOR&barcode=9788965137702 15750\n",
      "14 작별인사 - 교보문고 김영하 http://image.kyobobook.co.kr/images/book/xlarge/225/x9791191114225.jpg http://www.kyobobook.co.kr/product/detailViewKor.laf?mallGb=KOR&ejkGb=KOR&barcode=9791191114225 12600\n",
      "15 이상한 과자 가게 전천당 15 - 교보문고 히로시마 레이코 http://image.kyobobook.co.kr/images/book/xlarge/410/x9791164064410.jpg http://www.kyobobook.co.kr/product/detailViewKor.laf?mallGb=KOR&ejkGb=KOR&barcode=9791164064410 11700\n",
      "16 마법천자문 53: 결정을 내리다! 결단할 결 - 교보문고 유대영 http://image.kyobobook.co.kr/images/book/xlarge/138/x9788950903138.jpg http://www.kyobobook.co.kr/product/detailViewKor.laf?mallGb=KOR&ejkGb=KOR&barcode=9788950903138 12600\n",
      "17 눈물 한 방울 - 교보문고 이어령 http://image.kyobobook.co.kr/images/book/xlarge/574/x9788934961574.jpg http://www.kyobobook.co.kr/product/detailViewKor.laf?mallGb=KOR&ejkGb=KOR&barcode=9788934961574 14220\n",
      "18 변화하는 세계 질서 - 교보문고 레이 달리오 http://image.kyobobook.co.kr/images/book/xlarge/798/x9791157845798.jpg http://www.kyobobook.co.kr/product/detailViewKor.laf?mallGb=KOR&ejkGb=KOR&barcode=9791157845798 34200\n",
      "19 나라면 나와 결혼할까? - 교보문고 후이 http://image.kyobobook.co.kr/images/book/xlarge/594/x9791158741594.jpg http://www.kyobobook.co.kr/product/detailViewKor.laf?mallGb=KOR&ejkGb=KOR&barcode=9791158741594 15120\n",
      "20 해커스 토익 기출 보카 TOEIC VOCA - 교보문고 David Cho http://image.kyobobook.co.kr/images/book/xlarge/785/x9788965422785.jpg http://www.kyobobook.co.kr/product/detailViewKor.laf?mallGb=KOR&ejkGb=KOR&barcode=9788965422785 11610\n",
      "21 인플레이션에서 살아남기 - 교보문고 오건영 http://image.kyobobook.co.kr/images/book/xlarge/661/x9791190977661.jpg http://www.kyobobook.co.kr/product/detailViewKor.laf?mallGb=KOR&ejkGb=KOR&barcode=9791190977661 16920\n",
      "22 에그박사 7 - 교보문고 에그박사 (원작) http://image.kyobobook.co.kr/images/book/xlarge/279/x9791168412279.jpg http://www.kyobobook.co.kr/product/detailViewKor.laf?mallGb=KOR&ejkGb=KOR&barcode=9791168412279 13050\n",
      "23 포켓몬스터 썬&문 포켓몬 전국대도감 - 교보문고 대원키즈 편집부 http://image.kyobobook.co.kr/images/book/xlarge/817/x9791133463817.jpg http://www.kyobobook.co.kr/product/detailViewKor.laf?mallGb=KOR&ejkGb=KOR&barcode=9791133463817 8550\n",
      "24 부자 아빠 가난한 아빠 1(20주년 특별 기념판) - 교보문고 로버트 기요사키 http://image.kyobobook.co.kr/images/book/xlarge/591/x9791158883591.jpg http://www.kyobobook.co.kr/product/detailViewKor.laf?mallGb=KOR&ejkGb=KOR&barcode=9791158883591 14220\n",
      "25 최재천의 공부 - 교보문고 최재천 http://image.kyobobook.co.kr/images/book/xlarge/457/x9788934943457.jpg http://www.kyobobook.co.kr/product/detailViewKor.laf?mallGb=KOR&ejkGb=KOR&barcode=9788934943457 14850\n",
      "26 여기는 커스터드, 특별한 도시락을 팝니다 - 교보문고 가토 겐 http://image.kyobobook.co.kr/images/book/xlarge/076/x9791192403076.jpg http://www.kyobobook.co.kr/product/detailViewKor.laf?mallGb=KOR&ejkGb=KOR&barcode=9791192403076 13500\n",
      "27 입지 센스 - 교보문고 훨훨(박성혜) http://image.kyobobook.co.kr/images/book/xlarge/074/x9791130692074.jpg http://www.kyobobook.co.kr/product/detailViewKor.laf?mallGb=KOR&ejkGb=KOR&barcode=9791130692074 18000\n",
      "28 읽으면서 바로 써먹는 어린이 수수께끼: 공포 특급 - 교보문고 한날 http://image.kyobobook.co.kr/images/book/xlarge/446/x9791158682446.jpg http://www.kyobobook.co.kr/product/detailViewKor.laf?mallGb=KOR&ejkGb=KOR&barcode=9791158682446 11700\n",
      "29 멘탈을 바꿔야 인생이 바뀐다 - 교보문고 박세니 http://image.kyobobook.co.kr/images/book/xlarge/761/x9791191043761.jpg http://www.kyobobook.co.kr/product/detailViewKor.laf?mallGb=KOR&ejkGb=KOR&barcode=9791191043761 14220\n",
      "30 친밀한 이방인 - 교보문고 정한아 http://image.kyobobook.co.kr/images/book/xlarge/523/x9788954648523.jpg http://www.kyobobook.co.kr/product/detailViewKor.laf?mallGb=KOR&ejkGb=KOR&barcode=9788954648523 11700\n",
      "31 달러구트 꿈 백화점(레인보우 에디션) - 교보문고 이미예 http://image.kyobobook.co.kr/images/book/xlarge/909/x9791165341909.jpg http://www.kyobobook.co.kr/product/detailViewKor.laf?mallGb=KOR&ejkGb=KOR&barcode=9791165341909 12420\n",
      "32 어느 날, 내 죽음에 네가 들어왔다 - 교보문고 세이카 료겐 http://image.kyobobook.co.kr/images/book/xlarge/723/x9791191043723.jpg http://www.kyobobook.co.kr/product/detailViewKor.laf?mallGb=KOR&ejkGb=KOR&barcode=9791191043723 13500\n",
      "33 나를 내려놓으니 내가 좋아졌다 - 교보문고 네모토 히로유키 http://image.kyobobook.co.kr/images/book/xlarge/192/x9791191777192.jpg http://www.kyobobook.co.kr/product/detailViewKor.laf?mallGb=KOR&ejkGb=KOR&barcode=9791191777192 14400\n",
      "34 물고기는 존재하지 않는다 - 교보문고 룰루 밀러 http://image.kyobobook.co.kr/images/book/xlarge/156/x9791189327156.jpg http://www.kyobobook.co.kr/product/detailViewKor.laf?mallGb=KOR&ejkGb=KOR&barcode=9791189327156 15300\n",
      "35 인천 부동산의 미래 - 교보문고 스마트튜브(김학렬) http://image.kyobobook.co.kr/images/book/xlarge/262/x9791170433262.jpg http://www.kyobobook.co.kr/product/detailViewKor.laf?mallGb=KOR&ejkGb=KOR&barcode=9791170433262 20700\n",
      "36 데일 카네기 인간관계론 - 교보문고 데일 카네기 http://image.kyobobook.co.kr/images/book/xlarge/560/x9791187142560.jpg http://www.kyobobook.co.kr/product/detailViewKor.laf?mallGb=KOR&ejkGb=KOR&barcode=9791187142560 10350\n",
      "37 그릿(100쇄 기념 리커버 에디션) - 교보문고 앤절라 더크워스 http://image.kyobobook.co.kr/images/book/xlarge/633/x9791162540633.jpg http://www.kyobobook.co.kr/product/detailViewKor.laf?mallGb=KOR&ejkGb=KOR&barcode=9791162540633 14400\n",
      "38 오늘 밤, 세계에서 이 눈물이 사라진다 해도 - 교보문고 이치조 미사키 http://image.kyobobook.co.kr/images/book/xlarge/976/x9791191043976.jpg http://www.kyobobook.co.kr/product/detailViewKor.laf?mallGb=KOR&ejkGb=KOR&barcode=9791191043976 12600\n",
      "39 대한민국 위기와 기회의 시간 - 교보문고 선대인 http://image.kyobobook.co.kr/images/book/xlarge/153/x9791191521153.jpg http://www.kyobobook.co.kr/product/detailViewKor.laf?mallGb=KOR&ejkGb=KOR&barcode=9791191521153 16920\n",
      "40 오늘 밤, 세계에서 이 사랑이 사라진다 해도 - 교보문고 이치조 미사키 http://image.kyobobook.co.kr/images/book/xlarge/297/x9791191043297.jpg http://www.kyobobook.co.kr/product/detailViewKor.laf?mallGb=KOR&ejkGb=KOR&barcode=9791191043297 12600\n",
      "41 매일을 헤엄치는 법 - 교보문고 이연 http://image.kyobobook.co.kr/images/book/xlarge/720/x9791156759720.jpg http://www.kyobobook.co.kr/product/detailViewKor.laf?mallGb=KOR&ejkGb=KOR&barcode=9791156759720 14400\n"
     ]
    },
    {
     "name": "stdout",
     "output_type": "stream",
     "text": [
      "42 흔한남매 과학 탐험대 5: 물리 1 - 교보문고 흔한남매 (원작) http://image.kyobobook.co.kr/images/book/xlarge/753/x9788934940753.jpg http://www.kyobobook.co.kr/product/detailViewKor.laf?mallGb=KOR&ejkGb=KOR&barcode=9788934940753 12600\n",
      "43 도올주역강해 - 교보문고 도올(김용옥) http://image.kyobobook.co.kr/images/book/xlarge/534/x9788982641534.jpg http://www.kyobobook.co.kr/product/detailViewKor.laf?mallGb=KOR&ejkGb=KOR&barcode=9788982641534 35100\n",
      "44 나 혼자만 레벨업 6(만화) - 교보문고 장성락(REDICE STUDIO) http://image.kyobobook.co.kr/images/book/xlarge/370/x9791167770370.jpg http://www.kyobobook.co.kr/product/detailViewKor.laf?mallGb=KOR&ejkGb=KOR&barcode=9791167770370 13500\n",
      "45 생각 하나 바꿨을 뿐인데 - 교보문고 나이토 요시히토 http://image.kyobobook.co.kr/images/book/xlarge/007/x9791157770007.jpg http://www.kyobobook.co.kr/product/detailViewKor.laf?mallGb=KOR&ejkGb=KOR&barcode=9791157770007 14850\n",
      "46 테라피스트 - 교보문고 B. A. 패리스 http://image.kyobobook.co.kr/images/book/xlarge/518/x9791191043518.jpg http://www.kyobobook.co.kr/product/detailViewKor.laf?mallGb=KOR&ejkGb=KOR&barcode=9791191043518 14400\n",
      "47 부의 추월차선(10주년 스페셜 에디션) - 교보문고 엠제이 드마코 http://image.kyobobook.co.kr/images/book/xlarge/725/x9791187444725.jpg http://www.kyobobook.co.kr/product/detailViewKor.laf?mallGb=KOR&ejkGb=KOR&barcode=9791187444725 15750\n",
      "48 포켓몬 전국 캐릭터 대도감: 다이아몬드 펄 - 교보문고 학산문화사 편집부 http://image.kyobobook.co.kr/images/book/xlarge/508/x9791134870508.jpg http://www.kyobobook.co.kr/product/detailViewKor.laf?mallGb=KOR&ejkGb=KOR&barcode=9791134870508 12600\n",
      "49 아몬드(100만 부 기념 특별판) - 교보문고 손원평 http://image.kyobobook.co.kr/images/book/xlarge/753/x9788936438753.jpg http://www.kyobobook.co.kr/product/detailViewKor.laf?mallGb=KOR&ejkGb=KOR&barcode=9788936438753 10800\n",
      "50 인간 실격 - 교보문고 다자이 오사무 http://image.kyobobook.co.kr/images/book/xlarge/033/x9788937461033.jpg http://www.kyobobook.co.kr/product/detailViewKor.laf?mallGb=KOR&ejkGb=KOR&barcode=9788937461033 8100\n"
     ]
    }
   ],
   "source": [
    "#2022.8.11 기준\n",
    "from urllib.request import urlopen\n",
    "from bs4 import BeautifulSoup as bs\n",
    "\n",
    "# 교보문고의 베스트셀러 웹페이지 가져오기\n",
    "html = urlopen('http://www.kyobobook.co.kr/bestSellerNew/bestseller.laf')\n",
    "bsObject = bs(html,\"html.parser\")\n",
    "\n",
    "# 책상의 상세 웹페이지 주소를 추출하여 리스트에 저장\n",
    "book_page_urls = []\n",
    "for cover in bsObject.find_all('div', {'class':'detail'}):\n",
    "    link = cover.select('a')[0].get('href')\n",
    "    book_page_urls.append(link)\n",
    "\n",
    "# 메타 정보로부터 필요한 정보를 추출합니다. 메타 정보에 없는 저자 정보만 따로 가져옴\n",
    "for index, book_page_url in enumerate(book_page_urls):\n",
    "    html = urlopen(book_page_url)\n",
    "    bsObject = bs(html, \"html.parser\")\n",
    "    title = bsObject.find('meta', {'property':'og:title'}).get('content')\n",
    "    author = bsObject.select('span.name a')[0].text\n",
    "    image = bsObject.find('meta', {'property':'og:image'}).get('content')\n",
    "    url = bsObject.find('meta', {'property':'og:url'}).get('content')\n",
    "    price = bsObject.find('meta', {'property': 'og:price'}).get('content')\n",
    "    \n",
    "    print(index+1, title, author, image, url, price)"
   ]
  },
  {
   "cell_type": "code",
   "execution_count": null,
   "id": "fbee803f",
   "metadata": {},
   "outputs": [],
   "source": []
  }
 ],
 "metadata": {
  "kernelspec": {
   "display_name": "Python 3 (ipykernel)",
   "language": "python",
   "name": "python3"
  },
  "language_info": {
   "codemirror_mode": {
    "name": "ipython",
    "version": 3
   },
   "file_extension": ".py",
   "mimetype": "text/x-python",
   "name": "python",
   "nbconvert_exporter": "python",
   "pygments_lexer": "ipython3",
   "version": "3.9.12"
  }
 },
 "nbformat": 4,
 "nbformat_minor": 5
}
